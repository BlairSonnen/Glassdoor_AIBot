{
 "cells": [
  {
   "cell_type": "code",
   "execution_count": 19,
   "id": "6009f259",
   "metadata": {},
   "outputs": [],
   "source": [
    "# Install kagglehub if you need it, just comment out the next line\n",
    "# !pip install kagglehub"
   ]
  },
  {
   "cell_type": "code",
   "execution_count": 20,
   "id": "ca430746",
   "metadata": {},
   "outputs": [
    {
     "name": "stdout",
     "output_type": "stream",
     "text": [
      "Path to dataset files: C:\\Users\\jesseparent\\.cache\\kagglehub\\datasets\\davidgauthier\\glassdoor-job-reviews-2\\versions\\3\n"
     ]
    }
   ],
   "source": [
    "import kagglehub\n",
    "\n",
    "# Download the Glassdoor Job Reviews dataset from Kaggle\n",
    "path = kagglehub.dataset_download(\"davidgauthier/glassdoor-job-reviews-2\")\n",
    "\n",
    "print(\"Path to dataset files:\", path)"
   ]
  },
  {
   "cell_type": "code",
   "execution_count": 21,
   "id": "918ce429",
   "metadata": {},
   "outputs": [
    {
     "name": "stderr",
     "output_type": "stream",
     "text": [
      "C:\\Users\\jesseparent\\AppData\\Local\\Temp\\ipykernel_22800\\3192690328.py:5: DtypeWarning: Columns (5,9,10,11,12) have mixed types. Specify dtype option on import or set low_memory=False.\n",
      "  jobs_org_df = pd.read_csv(os.path.join(path, \"all_reviews.csv\"))\n"
     ]
    }
   ],
   "source": [
    "# Convert the csv at the variable \"path\" to a pd dataframe\n",
    "import pandas as pd\n",
    "import os\n",
    "\n",
    "jobs_org_df = pd.read_csv(os.path.join(path, \"all_reviews.csv\"))"
   ]
  },
  {
   "cell_type": "code",
   "execution_count": 22,
   "id": "50ab9332",
   "metadata": {},
   "outputs": [
    {
     "data": {
      "text/html": [
       "<div>\n",
       "<style scoped>\n",
       "    .dataframe tbody tr th:only-of-type {\n",
       "        vertical-align: middle;\n",
       "    }\n",
       "\n",
       "    .dataframe tbody tr th {\n",
       "        vertical-align: top;\n",
       "    }\n",
       "\n",
       "    .dataframe thead th {\n",
       "        text-align: right;\n",
       "    }\n",
       "</style>\n",
       "<table border=\"1\" class=\"dataframe\">\n",
       "  <thead>\n",
       "    <tr style=\"text-align: right;\">\n",
       "      <th></th>\n",
       "      <th>rating</th>\n",
       "      <th>title</th>\n",
       "      <th>status</th>\n",
       "      <th>pros</th>\n",
       "      <th>cons</th>\n",
       "      <th>advice</th>\n",
       "      <th>Recommend</th>\n",
       "      <th>CEO Approval</th>\n",
       "      <th>Business Outlook</th>\n",
       "      <th>Career Opportunities</th>\n",
       "      <th>Compensation and Benefits</th>\n",
       "      <th>Senior Management</th>\n",
       "      <th>Work/Life Balance</th>\n",
       "      <th>Culture &amp; Values</th>\n",
       "      <th>Diversity &amp; Inclusion</th>\n",
       "      <th>firm_link</th>\n",
       "      <th>date</th>\n",
       "      <th>job</th>\n",
       "      <th>index</th>\n",
       "    </tr>\n",
       "  </thead>\n",
       "  <tbody>\n",
       "    <tr>\n",
       "      <th>0</th>\n",
       "      <td>5.0</td>\n",
       "      <td>Good</td>\n",
       "      <td>Current Employee, more than 10 years</td>\n",
       "      <td>Knowledge gain of complete  project</td>\n",
       "      <td>Financial growth  and personal growth</td>\n",
       "      <td>NaN</td>\n",
       "      <td>v</td>\n",
       "      <td>o</td>\n",
       "      <td>v</td>\n",
       "      <td>3</td>\n",
       "      <td>3</td>\n",
       "      <td>3</td>\n",
       "      <td>3</td>\n",
       "      <td>3.0</td>\n",
       "      <td>3.0</td>\n",
       "      <td>Reviews/Baja-Steel-and-Fence-Reviews-E5462645.htm</td>\n",
       "      <td>Nov 19, 2022</td>\n",
       "      <td>Manager Design</td>\n",
       "      <td>NaN</td>\n",
       "    </tr>\n",
       "    <tr>\n",
       "      <th>1</th>\n",
       "      <td>4.0</td>\n",
       "      <td>Good</td>\n",
       "      <td>Former Employee, less than 1 year</td>\n",
       "      <td>Good work,good work , flexible, support</td>\n",
       "      <td>Good,work, flexible,good support, good team work</td>\n",
       "      <td>NaN</td>\n",
       "      <td>v</td>\n",
       "      <td>o</td>\n",
       "      <td>o</td>\n",
       "      <td>4</td>\n",
       "      <td>4</td>\n",
       "      <td>4</td>\n",
       "      <td>4</td>\n",
       "      <td>4.0</td>\n",
       "      <td>4.0</td>\n",
       "      <td>Reviews/Baja-Steel-and-Fence-Reviews-E5462645.htm</td>\n",
       "      <td>Jan 29, 2022</td>\n",
       "      <td>Anonymous Employee</td>\n",
       "      <td>NaN</td>\n",
       "    </tr>\n",
       "    <tr>\n",
       "      <th>2</th>\n",
       "      <td>4.0</td>\n",
       "      <td>Supervising the manufacturing the processes, e...</td>\n",
       "      <td>Current Employee, more than 1 year</td>\n",
       "      <td>This company is a best opportunity for me to l...</td>\n",
       "      <td>Monthly Target work,Maintain production schedu...</td>\n",
       "      <td>NaN</td>\n",
       "      <td>v</td>\n",
       "      <td>o</td>\n",
       "      <td>v</td>\n",
       "      <td>2</td>\n",
       "      <td>3</td>\n",
       "      <td>2</td>\n",
       "      <td>2</td>\n",
       "      <td>2.0</td>\n",
       "      <td>2.0</td>\n",
       "      <td>Reviews/Baja-Steel-and-Fence-Reviews-E5462645.htm</td>\n",
       "      <td>Aug 12, 2021</td>\n",
       "      <td>Production Engineer</td>\n",
       "      <td>NaN</td>\n",
       "    </tr>\n",
       "    <tr>\n",
       "      <th>3</th>\n",
       "      <td>1.0</td>\n",
       "      <td>terrible</td>\n",
       "      <td>Current Employee, more than 1 year</td>\n",
       "      <td>I wish there were some to list</td>\n",
       "      <td>too many to list here</td>\n",
       "      <td>NaN</td>\n",
       "      <td>x</td>\n",
       "      <td>x</td>\n",
       "      <td>x</td>\n",
       "      <td>1.0</td>\n",
       "      <td>3.0</td>\n",
       "      <td>1.0</td>\n",
       "      <td>3.0</td>\n",
       "      <td>1.0</td>\n",
       "      <td>NaN</td>\n",
       "      <td>https://www.glassdoor.com/Reviews/Calgary-Flam...</td>\n",
       "      <td>Sep 24, 2020</td>\n",
       "      <td>Senior Account Executive</td>\n",
       "      <td>NaN</td>\n",
       "    </tr>\n",
       "    <tr>\n",
       "      <th>4</th>\n",
       "      <td>4.0</td>\n",
       "      <td>It could be so good, but it isn’t</td>\n",
       "      <td>Current Employee, more than 3 years</td>\n",
       "      <td>Fast Paced. Endless challenges. Inclusive envi...</td>\n",
       "      <td>The biggest perk of the job provides no value ...</td>\n",
       "      <td>NaN</td>\n",
       "      <td>o</td>\n",
       "      <td>o</td>\n",
       "      <td>o</td>\n",
       "      <td>3.0</td>\n",
       "      <td>3.0</td>\n",
       "      <td>3.0</td>\n",
       "      <td>1.0</td>\n",
       "      <td>4.0</td>\n",
       "      <td>5.0</td>\n",
       "      <td>https://www.glassdoor.com/Reviews/Calgary-Flam...</td>\n",
       "      <td>Mar 25, 2023</td>\n",
       "      <td>Assistant Manager</td>\n",
       "      <td>NaN</td>\n",
       "    </tr>\n",
       "  </tbody>\n",
       "</table>\n",
       "</div>"
      ],
      "text/plain": [
       "   rating                                              title  \\\n",
       "0     5.0                                               Good   \n",
       "1     4.0                                               Good   \n",
       "2     4.0  Supervising the manufacturing the processes, e...   \n",
       "3     1.0                                           terrible   \n",
       "4     4.0                  It could be so good, but it isn’t   \n",
       "\n",
       "                                 status  \\\n",
       "0  Current Employee, more than 10 years   \n",
       "1     Former Employee, less than 1 year   \n",
       "2    Current Employee, more than 1 year   \n",
       "3    Current Employee, more than 1 year   \n",
       "4   Current Employee, more than 3 years   \n",
       "\n",
       "                                                pros  \\\n",
       "0                Knowledge gain of complete  project   \n",
       "1            Good work,good work , flexible, support   \n",
       "2  This company is a best opportunity for me to l...   \n",
       "3                     I wish there were some to list   \n",
       "4  Fast Paced. Endless challenges. Inclusive envi...   \n",
       "\n",
       "                                                cons advice Recommend  \\\n",
       "0              Financial growth  and personal growth    NaN         v   \n",
       "1   Good,work, flexible,good support, good team work    NaN         v   \n",
       "2  Monthly Target work,Maintain production schedu...    NaN         v   \n",
       "3                              too many to list here    NaN         x   \n",
       "4  The biggest perk of the job provides no value ...    NaN         o   \n",
       "\n",
       "  CEO Approval Business Outlook Career Opportunities  \\\n",
       "0            o                v                    3   \n",
       "1            o                o                    4   \n",
       "2            o                v                    2   \n",
       "3            x                x                  1.0   \n",
       "4            o                o                  3.0   \n",
       "\n",
       "  Compensation and Benefits Senior Management Work/Life Balance  \\\n",
       "0                         3                 3                 3   \n",
       "1                         4                 4                 4   \n",
       "2                         3                 2                 2   \n",
       "3                       3.0               1.0               3.0   \n",
       "4                       3.0               3.0               1.0   \n",
       "\n",
       "   Culture & Values  Diversity & Inclusion  \\\n",
       "0               3.0                    3.0   \n",
       "1               4.0                    4.0   \n",
       "2               2.0                    2.0   \n",
       "3               1.0                    NaN   \n",
       "4               4.0                    5.0   \n",
       "\n",
       "                                           firm_link           date  \\\n",
       "0  Reviews/Baja-Steel-and-Fence-Reviews-E5462645.htm  Nov 19, 2022    \n",
       "1  Reviews/Baja-Steel-and-Fence-Reviews-E5462645.htm  Jan 29, 2022    \n",
       "2  Reviews/Baja-Steel-and-Fence-Reviews-E5462645.htm  Aug 12, 2021    \n",
       "3  https://www.glassdoor.com/Reviews/Calgary-Flam...  Sep 24, 2020    \n",
       "4  https://www.glassdoor.com/Reviews/Calgary-Flam...  Mar 25, 2023    \n",
       "\n",
       "                         job  index  \n",
       "0             Manager Design    NaN  \n",
       "1         Anonymous Employee    NaN  \n",
       "2        Production Engineer    NaN  \n",
       "3   Senior Account Executive    NaN  \n",
       "4          Assistant Manager    NaN  "
      ]
     },
     "execution_count": 22,
     "metadata": {},
     "output_type": "execute_result"
    }
   ],
   "source": [
    "jobs_org_df.head()"
   ]
  },
  {
   "cell_type": "code",
   "execution_count": 23,
   "id": "d71e5288",
   "metadata": {},
   "outputs": [
    {
     "name": "stdout",
     "output_type": "stream",
     "text": [
      "Extract firm from relative path: Baja Steel and Fence\n",
      "Extract firm from absolute path: Calgary Flames\n"
     ]
    }
   ],
   "source": [
    "# Function to extract and format the firm name\n",
    "def extract_firm_name(link):\n",
    "    # Split string on slashes\n",
    "    parts = link.split(\"/\")\n",
    "    # Extract the last part of the string (the firm name)\n",
    "    firm_name = parts[-1]\n",
    "    # Split file name on dashes\n",
    "    firm_name_parts = firm_name.split(\"-\")\n",
    "    # Remove the last 2 parts (the file extension) and join the rest with spaces\n",
    "    firm_name = \" \".join(firm_name_parts[:-2])\n",
    "    # Return the formatted firm name\n",
    "    return firm_name\n",
    "\n",
    "# Test the function with different types of links    \n",
    "print(f\"Extract firm from relative path: {extract_firm_name('Reviews/Baja-Steel-and-Fence-Reviews-E5462645.htm')}\")\n",
    "print(f\"Extract firm from absolute path: {extract_firm_name('https://www.glassdoor.com/Reviews/Calgary-Flames-Reviews-E5247.htm')}\")\n"
   ]
  },
  {
   "cell_type": "code",
   "execution_count": 26,
   "id": "9d2751ac",
   "metadata": {},
   "outputs": [],
   "source": [
    "# Transform the data set to extract the firm name from the link\n",
    "jobs_org_df[\"firm_name\"] = jobs_org_df[\"firm_link\"].apply(extract_firm_name)\n",
    "\n"
   ]
  },
  {
   "cell_type": "code",
   "execution_count": 27,
   "id": "0f37fa42",
   "metadata": {},
   "outputs": [
    {
     "name": "stdout",
     "output_type": "stream",
     "text": [
      "\n",
      "Unique firm names: ['Baja Steel and Fence' 'Calgary Flames' 'I Will Teach You To Be Rich' ...\n",
      " 'Franklin County District #4' 'Great Southern Bancorp'\n",
      " 'Victoria Inn Hotel & Convention Centre']\n",
      "\n",
      "Number of unique firm names: 34369\n",
      "\n",
      "Number of reviews per firm: firm_name\n",
      "Amazon                            163396\n",
      "Tata Consultancy Services         107218\n",
      "Walmart                           102152\n",
      "Cognizant Technology Solutions     84171\n",
      "McDonald s                         76777\n",
      "                                   ...  \n",
      "365 Productions                        1\n",
      "Pelayo Mutua de Seguros                1\n",
      "Genlyte Thomas                         1\n",
      "Schöck Bauteile                        1\n",
      "JDB Cloud & Mobile Solutions           1\n",
      "Name: count, Length: 34369, dtype: int64\n",
      "\n",
      "Total reviews: 9901889\n"
     ]
    }
   ],
   "source": [
    "# Print Unique firm names\n",
    "print(f\"\\nUnique firm names: {jobs_org_df['firm_name'].unique()}\")\n",
    "# Print the number of unique firm names\n",
    "print(f\"\\nNumber of unique firm names: {jobs_org_df['firm_name'].nunique()}\")\n",
    "# Print the number of reviews per firm\n",
    "print(f\"\\nNumber of reviews per firm: {jobs_org_df['firm_name'].value_counts()}\")\n",
    "# Get the count of total reviews\n",
    "print(f\"\\nTotal reviews: {jobs_org_df['firm_name'].count()}\")"
   ]
  },
  {
   "cell_type": "code",
   "execution_count": 28,
   "id": "2b9f1226",
   "metadata": {},
   "outputs": [],
   "source": [
    "# Drop any rows where the count of the firm name is less than 1,000\n",
    "jobs_df = jobs_org_df[jobs_org_df[\"firm_name\"].map(jobs_org_df[\"firm_name\"].value_counts()) >= 1000]"
   ]
  },
  {
   "cell_type": "code",
   "execution_count": 29,
   "id": "f253eaca",
   "metadata": {},
   "outputs": [
    {
     "name": "stdout",
     "output_type": "stream",
     "text": [
      "\n",
      "Unique firm names: ['Canada Life' 'GlobalData' 'Summa Health System' ... 'Sheetz'\n",
      " 'Costco Wholesale' 'XL Dynamics']\n",
      "\n",
      "Number of unique firm names: 1728\n",
      "\n",
      "Number of reviews per firm: firm_name\n",
      "Amazon                              163396\n",
      "Tata Consultancy Services           107218\n",
      "Walmart                             102152\n",
      "Cognizant Technology Solutions       84171\n",
      "McDonald s                           76777\n",
      "                                     ...  \n",
      "SABIC                                 1003\n",
      "Auto Club of Southern California      1003\n",
      "ALS                                   1002\n",
      "HSN                                   1000\n",
      "TitleMax                              1000\n",
      "Name: count, Length: 1728, dtype: int64\n",
      "\n",
      "Total reviews: 7862168\n"
     ]
    }
   ],
   "source": [
    "# Print Unique firm names\n",
    "print(f\"\\nUnique firm names: {jobs_df['firm_name'].unique()}\")\n",
    "# Print the number of unique firm names\n",
    "print(f\"\\nNumber of unique firm names: {jobs_df['firm_name'].nunique()}\")\n",
    "# Print the number of reviews per firm\n",
    "print(f\"\\nNumber of reviews per firm: {jobs_df['firm_name'].value_counts()}\")\n",
    "# Get the count of total reviews\n",
    "print(f\"\\nTotal reviews: {jobs_df['firm_name'].count()}\")"
   ]
  },
  {
   "cell_type": "code",
   "execution_count": 30,
   "id": "82d3670c",
   "metadata": {},
   "outputs": [
    {
     "name": "stdout",
     "output_type": "stream",
     "text": [
      "\n",
      "Count of null or NaN entries for each column:\n",
      "rating                           124\n",
      "title                          32936\n",
      "status                           124\n",
      "pros                             136\n",
      "cons                             174\n",
      "advice                       7862162\n",
      "Recommend                        124\n",
      "CEO Approval                     124\n",
      "Business Outlook                 124\n",
      "Career Opportunities         1509933\n",
      "Compensation and Benefits    1535855\n",
      "Senior Management            1614963\n",
      "Work/Life Balance            1549815\n",
      "Culture & Values             1828149\n",
      "Diversity & Inclusion        5172595\n",
      "firm_link                          0\n",
      "date                             124\n",
      "job                              124\n",
      "index                        7701598\n",
      "firm_name                          0\n",
      "dtype: int64\n"
     ]
    }
   ],
   "source": [
    "# Count the number of null or NaN entries for each column\n",
    "print(f\"\\nCount of null or NaN entries for each column:\\n{jobs_df.isnull().sum()}\")\n"
   ]
  },
  {
   "cell_type": "code",
   "execution_count": 31,
   "id": "be22db7c",
   "metadata": {},
   "outputs": [],
   "source": [
    "# Let's drop the columns that have almost all NULL values\n",
    "jobs_df = jobs_df.drop(columns=[\"advice\", \"index\"])"
   ]
  },
  {
   "cell_type": "code",
   "execution_count": 32,
   "id": "75d525d7",
   "metadata": {},
   "outputs": [
    {
     "name": "stdout",
     "output_type": "stream",
     "text": [
      "\n",
      "Count of null or NaN entries for each column:\n",
      "rating                       0\n",
      "title                        0\n",
      "status                       0\n",
      "pros                         0\n",
      "cons                         0\n",
      "Recommend                    0\n",
      "CEO Approval                 0\n",
      "Business Outlook             0\n",
      "Career Opportunities         0\n",
      "Compensation and Benefits    0\n",
      "Senior Management            0\n",
      "Work/Life Balance            0\n",
      "Culture & Values             0\n",
      "Diversity & Inclusion        0\n",
      "firm_link                    0\n",
      "date                         0\n",
      "job                          0\n",
      "firm_name                    0\n",
      "dtype: int64\n"
     ]
    }
   ],
   "source": [
    "# Drop any rows with null or NaN entries in any column\n",
    "jobs_df = jobs_df.dropna()\n",
    "\n",
    "# Count the number of null or NaN entries for each column\n",
    "print(f\"\\nCount of null or NaN entries for each column:\\n{jobs_df.isnull().sum()}\")"
   ]
  },
  {
   "cell_type": "code",
   "execution_count": 35,
   "id": "f4a2f78c",
   "metadata": {},
   "outputs": [
    {
     "name": "stdout",
     "output_type": "stream",
     "text": [
      "\n",
      "Counts of each unique value in the 'status' column:\n",
      "status\n",
      "Current Employee                        506194\n",
      "Current Employee, more than 1 year      326743\n",
      "Former Employee                         254537\n",
      "Former Employee, more than 1 year       250393\n",
      "Current Employee, more than 3 years     243699\n",
      "Current Employee, less than 1 year      240456\n",
      "Former Employee, less than 1 year       182206\n",
      "Former Employee, more than 3 years      159730\n",
      "Current Employee, more than 5 years     146738\n",
      "Former Employee, more than 5 years       84360\n",
      "Current Employee, more than 10 years     74812\n",
      "Current Employee, more than 8 years      74383\n",
      "Former Employee, more than 8 years       41580\n",
      "Former Employee, more than 10 years      39205\n",
      "Name: count, dtype: int64\n"
     ]
    }
   ],
   "source": [
    "# Get counts of each unique values in the \"status\" column\n",
    "print(f\"\\nCounts of each unique value in the 'status' column:\\n{jobs_df['status'].value_counts()}\")\n"
   ]
  },
  {
   "cell_type": "code",
   "execution_count": 33,
   "id": "c9117c93",
   "metadata": {},
   "outputs": [
    {
     "name": "stdout",
     "output_type": "stream",
     "text": [
      "AFTER DATA CLEANING:\n",
      "\n",
      "Unique firm names: ['Canada Life' 'GlobalData' 'Summa Health System' ... 'Sheetz'\n",
      " 'Costco Wholesale' 'XL Dynamics']\n",
      "\n",
      "Number of unique firm names: 1728\n",
      "\n",
      "Number of reviews per firm: firm_name\n",
      "Amazon                            85836\n",
      "Tata Consultancy Services         43238\n",
      "Walmart                           34310\n",
      "Cognizant Technology Solutions    31613\n",
      "Accenture                         28357\n",
      "                                  ...  \n",
      "Alcatel Lucent                       15\n",
      "SolarCity                            13\n",
      "Amec Foster Wheeler                  11\n",
      "UTC Aerospace Systems                 9\n",
      "CH2M                                  3\n",
      "Name: count, Length: 1728, dtype: int64\n",
      "\n",
      "Total reviews: 2625036\n"
     ]
    }
   ],
   "source": [
    "print(\"AFTER DATA CLEANING:\")\n",
    "# Print Unique firm names\n",
    "print(f\"\\nUnique firm names: {jobs_df['firm_name'].unique()}\")\n",
    "# Print the number of unique firm names\n",
    "print(f\"\\nNumber of unique firm names: {jobs_df['firm_name'].nunique()}\")\n",
    "# Print the number of reviews per firm\n",
    "print(f\"\\nNumber of reviews per firm: {jobs_df['firm_name'].value_counts()}\")\n",
    "# Get the count of total reviews\n",
    "print(f\"\\nTotal reviews: {jobs_df['firm_name'].count()}\")"
   ]
  },
  {
   "cell_type": "code",
   "execution_count": null,
   "id": "4ff7d8a4",
   "metadata": {},
   "outputs": [
    {
     "name": "stdout",
     "output_type": "stream",
     "text": [
      "AFTER DATA CLEANING:\n",
      "\n",
      "Unique firm names: ['Canada Life' 'GlobalData' 'Summa Health System' ... 'Sheetz'\n",
      " 'Costco Wholesale' 'XL Dynamics']\n",
      "\n",
      "Number of unique firm names: 1728\n",
      "\n",
      "Number of reviews per firm: firm_name\n",
      "Amazon                            85836\n",
      "Tata Consultancy Services         43238\n",
      "Walmart                           34310\n",
      "Cognizant Technology Solutions    31613\n",
      "Accenture                         28357\n",
      "                                  ...  \n",
      "Alcatel Lucent                       15\n",
      "SolarCity                            13\n",
      "Amec Foster Wheeler                  11\n",
      "UTC Aerospace Systems                 9\n",
      "CH2M                                  3\n",
      "Name: count, Length: 1728, dtype: int64\n",
      "\n",
      "Total reviews: 2625036\n"
     ]
    }
   ],
   "source": [
    "# Get a sample of 500,000 reviews\n",
    "jobs_sample_df = jobs_df.sample(n=500000, random_state=1)\n"
   ]
  },
  {
   "cell_type": "code",
   "execution_count": 37,
   "id": "9ffb2fcd",
   "metadata": {},
   "outputs": [
    {
     "name": "stdout",
     "output_type": "stream",
     "text": [
      "AFTER DATA CLEANING:\n",
      "\n",
      "Unique firm names: ['PwC' 'Sun Life' 'CGI' ... 'Allergan' 'Kohl s' 'CH2M']\n",
      "\n",
      "Number of unique firm names: 1727\n",
      "\n",
      "Number of reviews per firm: firm_name\n",
      "Amazon                            16495\n",
      "Tata Consultancy Services          8336\n",
      "Walmart                            6615\n",
      "Cognizant Technology Solutions     6111\n",
      "Accenture                          5364\n",
      "                                  ...  \n",
      "Alcatel Lucent                        4\n",
      "Kohl s                                4\n",
      "SolarCity                             3\n",
      "UTC Aerospace Systems                 1\n",
      "CH2M                                  1\n",
      "Name: count, Length: 1727, dtype: int64\n",
      "\n",
      "Total reviews: 500000\n"
     ]
    }
   ],
   "source": [
    "print(\"AFTER DATA CLEANING:\")\n",
    "# Print Unique firm names\n",
    "print(f\"\\nUnique firm names: {jobs_sample_df['firm_name'].unique()}\")\n",
    "# Print the number of unique firm names\n",
    "print(f\"\\nNumber of unique firm names: {jobs_sample_df['firm_name'].nunique()}\")\n",
    "# Print the number of reviews per firm\n",
    "print(f\"\\nNumber of reviews per firm: {jobs_sample_df['firm_name'].value_counts()}\")\n",
    "# Get the count of total reviews\n",
    "print(f\"\\nTotal reviews: {jobs_sample_df['firm_name'].count()}\")"
   ]
  },
  {
   "cell_type": "code",
   "execution_count": 47,
   "id": "ab486d9f",
   "metadata": {},
   "outputs": [],
   "source": [
    "# Drop any rows where the count of the firm name is less than 1,000\n",
    "jobs_sample_reduced_df = jobs_sample_df[jobs_sample_df[\"firm_name\"].map(jobs_sample_df[\"firm_name\"].value_counts()) >= 500]"
   ]
  },
  {
   "cell_type": "code",
   "execution_count": 48,
   "id": "259ecaf8",
   "metadata": {},
   "outputs": [
    {
     "name": "stdout",
     "output_type": "stream",
     "text": [
      "AFTER DATA CLEANING:\n",
      "\n",
      "Unique firm names: ['PwC' 'CGI' 'Wipro' 'TaskUs' 'GE' 'Capgemini' 'Amazon' 'US Air Force'\n",
      " \"Lowe's Home Improvement\" 'Kaiser Permanente' 'ICICI Bank' 'Publix'\n",
      " 'US Postal Service' 'Cognizant Technology Solutions' 'Novartis' 'HSBC'\n",
      " 'ADP' 'McDonald s' 'Teleperformance' 'Brigham Young University (BYU)'\n",
      " 'Genpact' 'Staples' 'SAP' 'lululemon'\n",
      " 'American Automobile Association (AAA)' 'Vodafone' 'Tesco' 'Nestlé'\n",
      " 'Hewlett Packard Enterprise HPE' 'Robert Bosch' 'Costco Wholesale'\n",
      " 'Starbucks' 'The Home Depot' 'Kroger' 'Shell' 'Nestl%C3%A9' 'Deloitte'\n",
      " 'IBM' \"McDonald's\" 'KPMG' 'Standard Chartered Bank'\n",
      " 'Tata Consultancy Services' 'The Cleaning Authority' 'Walgreens'\n",
      " 'Best Buy' 'Foundever' 'Capital One' 'General Motors (GM)' 'Conduent'\n",
      " 'PayPal' 'Atos Syntel' 'The Coca Cola Company'\n",
      " 'Continental Software Solutions' 'Citi' 'Larsen & Toubro' 'Allstate'\n",
      " 'Uber' 'Deutsche Bank' 'RBC' 'HCLTech' 'Infosys' 'NTT Ltd' 'Boeing'\n",
      " 'HP Inc' 'Intel Corporation' 'Concentrix' 'H E B' 'Walmart' 'Comcast'\n",
      " 'US Marine Corps' 'Dell Technologies' 'Tech Mahindra' 'Credit Suisse'\n",
      " 'Dunkin' 'General Motors GM' 'Target' 'State Farm' 'Verizon' 'Labcorp'\n",
      " 'AT&T' 'Chick fil A Restaurants' 'UPS' 'T Mobile' 'IQVIA'\n",
      " 'American Airlines' 'Wells Fargo' 'Optum' 'Trader Joe s' 'EY'\n",
      " 'EPAM Systems' 'Pizza Hut' 'ALDI' 'DXC Technology' 'Oracle'\n",
      " 'American Automobile Association AAA' 'Burger King' 'Panera Bread'\n",
      " 'Spectrum' 'ExxonMobil' 'Qualcomm' 'Shopee' 'Majorel' 'IKEA' 'FedEx'\n",
      " 'Tim Hortons' \"Macy's\" 'TTEC' 'Honeywell' 'Mphasis' 'Primark' 'DBS Bank'\n",
      " 'BNY Mellon' 'Hollister Co' 'LTI' 'Cerner' 'Accenture'\n",
      " 'Ford Motor Company' 'US Navy' 'Tesla' 'Taco Bell' 'Fiserv'\n",
      " 'Bank of America' 'Samsung Electronics' 'Dollar Tree' 'J.P. Morgan'\n",
      " 'Siemens' 'Dollar General' 'Allied Universal' 'Raytheon Technologies'\n",
      " 'Scotiabank' 'Schneider Electric' 'Apple' \"Wendy's\" 'Goldman Sachs'\n",
      " 'Publicis Sapient' 'Amdocs' 'H and M' 'Chick fil A' 'Cisco Systems'\n",
      " 'Walt Disney Company' 'UBS' 'US Army' 'NHS' 'American Express' 'PepsiCo'\n",
      " 'Meta' 'Google' 'Microsoft' 'Sainsbury%E2%80%99s' 'Subway' \"Domino's\"\n",
      " 'Marks and Spencer' 'Barclays' 'Lockheed Martin' 'Marriott International'\n",
      " 'TD' 'Chipotle' 'McKinsey and Company'\n",
      " 'Tata Consultancy Services (North America)' 'CVS Health'\n",
      " 'Whole Foods Market' 'Enterprise' 'Mindtree' 'Sam s Club' 'YMCA'\n",
      " 'Bharti Airtel' 'Gamuda' 'Thermo Fisher Scientific' 'Nokia' 'Salesforce'\n",
      " 'JLL' 'FIS' 'Morgan Stanley' 'ASDA' 'Virtusa' 'ABC' 'Ericsson Worldwide'\n",
      " \"Kohl's\" 'GEICO' 'GSK' 'CBRE' 'KFC' 'Huawei Technologies'\n",
      " 'Johnson & Johnson' 'Ulta Beauty' 'NIKE' 'Bloomberg L P'\n",
      " 'Procter & Gamble' 'Atos' 'NTT DATA' 'WhiteHat Jr' 'Nordstrom' 'Abbott'\n",
      " '7 Eleven' 'VMware' 'Coforge' 'Fidelity Investments']\n",
      "\n",
      "Number of unique firm names: 197\n",
      "\n",
      "Number of reviews per firm: firm_name\n",
      "Amazon                            16495\n",
      "Tata Consultancy Services          8336\n",
      "Walmart                            6615\n",
      "Cognizant Technology Solutions     6111\n",
      "Accenture                          5364\n",
      "                                  ...  \n",
      "McKinsey and Company                508\n",
      "EPAM Systems                        506\n",
      "Bharti Airtel                       503\n",
      "Atos Syntel                         502\n",
      "IKEA                                500\n",
      "Name: count, Length: 197, dtype: int64\n",
      "\n",
      "Total reviews: 270745\n"
     ]
    }
   ],
   "source": [
    "print(\"AFTER DATA CLEANING:\")\n",
    "# Print Unique firm names\n",
    "print(f\"\\nUnique firm names: {jobs_sample_reduced_df['firm_name'].unique()}\")\n",
    "# Print the number of unique firm names\n",
    "print(f\"\\nNumber of unique firm names: {jobs_sample_reduced_df['firm_name'].nunique()}\")\n",
    "# Print the number of reviews per firm\n",
    "print(f\"\\nNumber of reviews per firm: {jobs_sample_reduced_df['firm_name'].value_counts()}\")\n",
    "# Get the count of total reviews\n",
    "print(f\"\\nTotal reviews: {jobs_sample_reduced_df['firm_name'].count()}\")"
   ]
  },
  {
   "cell_type": "code",
   "execution_count": 50,
   "id": "5007246a",
   "metadata": {},
   "outputs": [],
   "source": [
    "# Export the cleaned dataset to a CSV file\n",
    "jobs_sample_reduced_df.to_csv(\"Resources/cleaned_glassdoor_reviews.csv\", index=False)"
   ]
  }
 ],
 "metadata": {
  "kernelspec": {
   "display_name": "base",
   "language": "python",
   "name": "python3"
  },
  "language_info": {
   "codemirror_mode": {
    "name": "ipython",
    "version": 3
   },
   "file_extension": ".py",
   "mimetype": "text/x-python",
   "name": "python",
   "nbconvert_exporter": "python",
   "pygments_lexer": "ipython3",
   "version": "3.12.7"
  }
 },
 "nbformat": 4,
 "nbformat_minor": 5
}
