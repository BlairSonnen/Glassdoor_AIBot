{
 "cells": [
  {
   "cell_type": "code",
   "execution_count": null,
   "id": "6009f259",
   "metadata": {},
   "outputs": [],
   "source": [
    "# Install kagglehub if you need it, just comment out the next line\n",
    "# !pip install kagglehub"
   ]
  },
  {
   "cell_type": "code",
   "execution_count": null,
   "id": "ca430746",
   "metadata": {},
   "outputs": [],
   "source": [
    "import kagglehub\n",
    "\n",
    "# Download the Glassdoor Job Reviews dataset from Kaggle\n",
    "path = kagglehub.dataset_download(\"davidgauthier/glassdoor-job-reviews-2\")\n",
    "\n",
    "print(\"Path to dataset files:\", path)"
   ]
  },
  {
   "cell_type": "code",
   "execution_count": null,
   "id": "918ce429",
   "metadata": {},
   "outputs": [],
   "source": [
    "# Convert the csv at the variable \"path\" to a pd dataframe\n",
    "import pandas as pd\n",
    "import os\n",
    "\n",
    "jobs_org_df = pd.read_csv(os.path.join(path, \"all_reviews.csv\"))"
   ]
  },
  {
   "cell_type": "code",
   "execution_count": null,
   "id": "50ab9332",
   "metadata": {},
   "outputs": [],
   "source": [
    "jobs_org_df.head()"
   ]
  },
  {
   "cell_type": "code",
   "execution_count": null,
   "id": "d71e5288",
   "metadata": {},
   "outputs": [],
   "source": [
    "# Function to extract and format the firm name\n",
    "def extract_firm_name(link):\n",
    "    # Split string on slashes\n",
    "    parts = link.split(\"/\")\n",
    "    # Extract the last part of the string (the firm name)\n",
    "    firm_name = parts[-1]\n",
    "    # Split file name on dashes\n",
    "    firm_name_parts = firm_name.split(\"-\")\n",
    "    # Remove the last 2 parts (the file extension) and join the rest with spaces\n",
    "    firm_name = \" \".join(firm_name_parts[:-2])\n",
    "    # Return the formatted firm name\n",
    "    return firm_name\n",
    "\n",
    "# Test the function with different types of links    \n",
    "print(f\"Extract firm from relative path: {extract_firm_name('Reviews/Baja-Steel-and-Fence-Reviews-E5462645.htm')}\")\n",
    "print(f\"Extract firm from absolute path: {extract_firm_name('https://www.glassdoor.com/Reviews/Calgary-Flames-Reviews-E5247.htm')}\")\n"
   ]
  },
  {
   "cell_type": "code",
   "execution_count": null,
   "id": "9d2751ac",
   "metadata": {},
   "outputs": [],
   "source": [
    "# Transform the data set to extract the firm name from the link\n",
    "jobs_org_df[\"firm_name\"] = jobs_org_df[\"firm_link\"].apply(extract_firm_name)\n",
    "\n"
   ]
  },
  {
   "cell_type": "code",
   "execution_count": null,
   "id": "0f37fa42",
   "metadata": {},
   "outputs": [],
   "source": [
    "# Print Unique firm names\n",
    "print(f\"\\nUnique firm names: {jobs_org_df['firm_name'].unique()}\")\n",
    "# Print the number of unique firm names\n",
    "print(f\"\\nNumber of unique firm names: {jobs_org_df['firm_name'].nunique()}\")\n",
    "# Print the number of reviews per firm\n",
    "print(f\"\\nNumber of reviews per firm: {jobs_org_df['firm_name'].value_counts()}\")\n",
    "# Get the count of total reviews\n",
    "print(f\"\\nTotal reviews: {jobs_org_df['firm_name'].count()}\")"
   ]
  },
  {
   "cell_type": "code",
   "execution_count": null,
   "id": "2b9f1226",
   "metadata": {},
   "outputs": [],
   "source": [
    "# Drop any rows where the count of the firm name is less than 1,000\n",
    "jobs_df = jobs_org_df[jobs_org_df[\"firm_name\"].map(jobs_org_df[\"firm_name\"].value_counts()) >= 1000]"
   ]
  },
  {
   "cell_type": "code",
   "execution_count": null,
   "id": "f253eaca",
   "metadata": {},
   "outputs": [],
   "source": [
    "# Print Unique firm names\n",
    "print(f\"\\nUnique firm names: {jobs_df['firm_name'].unique()}\")\n",
    "# Print the number of unique firm names\n",
    "print(f\"\\nNumber of unique firm names: {jobs_df['firm_name'].nunique()}\")\n",
    "# Print the number of reviews per firm\n",
    "print(f\"\\nNumber of reviews per firm: {jobs_df['firm_name'].value_counts()}\")\n",
    "# Get the count of total reviews\n",
    "print(f\"\\nTotal reviews: {jobs_df['firm_name'].count()}\")"
   ]
  },
  {
   "cell_type": "code",
   "execution_count": null,
   "id": "82d3670c",
   "metadata": {},
   "outputs": [],
   "source": [
    "# Count the number of null or NaN entries for each column\n",
    "print(f\"\\nCount of null or NaN entries for each column:\\n{jobs_df.isnull().sum()}\")\n"
   ]
  },
  {
   "cell_type": "code",
   "execution_count": null,
   "id": "be22db7c",
   "metadata": {},
   "outputs": [],
   "source": [
    "# Let's drop the columns that have almost all NULL values\n",
    "jobs_df = jobs_df.drop(columns=[\"advice\", \"index\"])"
   ]
  },
  {
   "cell_type": "code",
   "execution_count": null,
   "id": "75d525d7",
   "metadata": {},
   "outputs": [],
   "source": [
    "# Drop any rows with null or NaN entries in any column\n",
    "jobs_df = jobs_df.dropna()\n",
    "\n",
    "# Count the number of null or NaN entries for each column\n",
    "print(f\"\\nCount of null or NaN entries for each column:\\n{jobs_df.isnull().sum()}\")"
   ]
  },
  {
   "cell_type": "code",
   "execution_count": null,
   "id": "f4a2f78c",
   "metadata": {},
   "outputs": [],
   "source": [
    "# Get counts of each unique values in the \"status\" column\n",
    "print(f\"\\nCounts of each unique value in the 'status' column:\\n{jobs_df['status'].value_counts()}\")\n"
   ]
  },
  {
   "cell_type": "code",
   "execution_count": null,
   "id": "c9117c93",
   "metadata": {},
   "outputs": [],
   "source": [
    "print(\"AFTER DATA CLEANING:\")\n",
    "# Print Unique firm names\n",
    "print(f\"\\nUnique firm names: {jobs_df['firm_name'].unique()}\")\n",
    "# Print the number of unique firm names\n",
    "print(f\"\\nNumber of unique firm names: {jobs_df['firm_name'].nunique()}\")\n",
    "# Print the number of reviews per firm\n",
    "print(f\"\\nNumber of reviews per firm: {jobs_df['firm_name'].value_counts()}\")\n",
    "# Get the count of total reviews\n",
    "print(f\"\\nTotal reviews: {jobs_df['firm_name'].count()}\")"
   ]
  },
  {
   "cell_type": "code",
   "execution_count": null,
   "id": "f3285336",
   "metadata": {},
   "outputs": [],
   "source": [
    "# JONATHAN - STOP HERE! UNCOMMENT THE SAVE TO CSV LINE\n",
    "# Export the cleaned dataset to a CSV file\n",
    "# jobs_df.to_csv(\"Resources/cleaned_glassdoor_reviews_large.csv\", index=False)"
   ]
  },
  {
   "cell_type": "code",
   "execution_count": null,
   "id": "572ac480",
   "metadata": {},
   "outputs": [],
   "source": [
    "# Get the size of the jobs_df dataframe\n",
    "total_rows = jobs_df.shape[0]\n",
    "rows_step = 250000\n",
    "start_index = 0\n",
    "step_number = 0\n",
    "\n",
    "# Loop through the dataframe in chunks of 250,000 rows\n",
    "while start_index < total_rows:\n",
    "    end_index = min(start_index + rows_step, total_rows)\n",
    "    chunk_df = jobs_df.iloc[start_index:end_index]\n",
    "    \n",
    "    # Save the chunk to a CSV file\n",
    "    chunk_df.to_csv(f\"Resources/chunked/cleaned_glassdoor_reviews_large_{start_index}.csv\", index=False)\n",
    "    \n",
    "    # Print Progress\n",
    "    print(f\"Saved chunk {step_number} from index {start_index} to {end_index}\")\n",
    "    print(f\"Chunk {step_number} shape: {chunk_df.shape}\")\n",
    "    \n",
    "    # Update the start index for the next chunk\n",
    "    start_index += rows_step\n",
    "\n",
    "    # Increase the step number for the next file name\n",
    "    step_number += 1\n",
    "    "
   ]
  },
  {
   "cell_type": "code",
   "execution_count": null,
   "id": "4ff7d8a4",
   "metadata": {},
   "outputs": [],
   "source": [
    "# Get a sample of 500,000 reviews\n",
    "jobs_sample_df = jobs_df.sample(n=500000, random_state=1)\n"
   ]
  },
  {
   "cell_type": "code",
   "execution_count": null,
   "id": "9ffb2fcd",
   "metadata": {},
   "outputs": [],
   "source": [
    "print(\"AFTER DATA CLEANING:\")\n",
    "# Print Unique firm names\n",
    "print(f\"\\nUnique firm names: {jobs_sample_df['firm_name'].unique()}\")\n",
    "# Print the number of unique firm names\n",
    "print(f\"\\nNumber of unique firm names: {jobs_sample_df['firm_name'].nunique()}\")\n",
    "# Print the number of reviews per firm\n",
    "print(f\"\\nNumber of reviews per firm: {jobs_sample_df['firm_name'].value_counts()}\")\n",
    "# Get the count of total reviews\n",
    "print(f\"\\nTotal reviews: {jobs_sample_df['firm_name'].count()}\")"
   ]
  },
  {
   "cell_type": "code",
   "execution_count": null,
   "id": "ab486d9f",
   "metadata": {},
   "outputs": [],
   "source": [
    "# Drop any rows where the count of the firm name is less than 1,000\n",
    "jobs_sample_reduced_df = jobs_sample_df[jobs_sample_df[\"firm_name\"].map(jobs_sample_df[\"firm_name\"].value_counts()) >= 600]"
   ]
  },
  {
   "cell_type": "code",
   "execution_count": null,
   "id": "259ecaf8",
   "metadata": {},
   "outputs": [],
   "source": [
    "print(\"AFTER DATA CLEANING:\")\n",
    "# Print Unique firm names\n",
    "print(f\"\\nUnique firm names: {jobs_sample_reduced_df['firm_name'].unique()}\")\n",
    "# Print the number of unique firm names\n",
    "print(f\"\\nNumber of unique firm names: {jobs_sample_reduced_df['firm_name'].nunique()}\")\n",
    "# Print the number of reviews per firm\n",
    "print(f\"\\nNumber of reviews per firm: {jobs_sample_reduced_df['firm_name'].value_counts()}\")\n",
    "# Get the count of total reviews\n",
    "print(f\"\\nTotal reviews: {jobs_sample_reduced_df['firm_name'].count()}\")"
   ]
  },
  {
   "cell_type": "code",
   "execution_count": null,
   "id": "5007246a",
   "metadata": {},
   "outputs": [],
   "source": [
    "# Export the cleaned dataset to a CSV file\n",
    "jobs_sample_reduced_df.to_csv(\"Resources/cleaned_glassdoor_reviews.csv\", index=False)"
   ]
  }
 ],
 "metadata": {
  "kernelspec": {
   "display_name": "base",
   "language": "python",
   "name": "python3"
  },
  "language_info": {
   "codemirror_mode": {
    "name": "ipython",
    "version": 3
   },
   "file_extension": ".py",
   "mimetype": "text/x-python",
   "name": "python",
   "nbconvert_exporter": "python",
   "pygments_lexer": "ipython3",
   "version": "3.12.7"
  }
 },
 "nbformat": 4,
 "nbformat_minor": 5
}
